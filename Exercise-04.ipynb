{
 "cells": [
  {
   "cell_type": "code",
   "execution_count": 2,
   "metadata": {},
   "outputs": [
    {
     "name": "stdout",
     "output_type": "stream",
     "text": [
      "Nadya Kartika Apatrini\n",
      "I0322091\n",
      "Kelas C\n"
     ]
    }
   ],
   "source": [
    "print(input(\"Nama: \"))\n",
    "print(input(\"NIM: \"))\n",
    "print(input(\"Kelas: \"))"
   ]
  },
  {
   "attachments": {},
   "cell_type": "markdown",
   "metadata": {},
   "source": [
    "## 1."
   ]
  },
  {
   "attachments": {},
   "cell_type": "markdown",
   "metadata": {},
   "source": [
    "Buatlah program yang menampilkan tarif pajak yang harus dibayarkan oleh user dengan input yaitu nama user dan pendapatan dari user.<br>\n",
    "Dengan ketentuan sebagai berikut:\n",
    "* Jika pendapatan kurang dari atau sama dengan 10 juta, maka tarif pajak adalah 2,5%\n",
    "* Jika pendapatan kurang dari atau sama dengan 20 juta, maka tarif pajak adalah 5%\n",
    "* Jika pendapatan kurang dari atau sama dengan 50 juta, maka tarif pajak adalah 10%.\n",
    "* Jika pendapatan lebih dari 50 juta, maka tarif pajak adalah 12,5%.\n",
    "> *note: Kerjakan soal ini dengan percabangan*"
   ]
  },
  {
   "cell_type": "code",
   "execution_count": 3,
   "metadata": {},
   "outputs": [
    {
     "name": "stdout",
     "output_type": "stream",
     "text": [
      "Daftar Tarif Pajak Pendapatan\n",
      "-Jika Pendapatan ≤ 10 Juta, maka tarif pajaknya 2,5% \n",
      "-Jika Pendapatan ≤ 20 Juta, maka tarif pajaknya 5% \n",
      "-Jika Pendapatan ≤ 50 Juta, maka tarif pajaknya 10% \n",
      "-Jika Pendapatan > 50 Juta, maka tarif pajaknya 12,5%\n",
      "========================================================\n",
      "Nama : Nadya Kartika Aptarini\n",
      "Pendapatan : 25000000\n",
      "Pajak yang harus dibayarkan sebesar Rp. 2500000.0\n"
     ]
    }
   ],
   "source": [
    "# Kerjakan soal no 1 di sini\n",
    "\n",
    "#TARIF PAJAK PENDAPATAN\n",
    "Nama = str(input(\"Masukkan Nama Anda = \"))\n",
    "Pendapatan = int(input(\"Masukkan Jumlah Pedapatan Anda = \"))\n",
    "\n",
    "print(\"Daftar Tarif Pajak Pendapatan\\n-Jika Pendapatan ≤ 10 Juta, maka tarif pajaknya 2,5% \\n-Jika Pendapatan ≤ 20 Juta, maka tarif pajaknya 5% \\n-Jika Pendapatan ≤ 50 Juta, maka tarif pajaknya 10% \\n-Jika Pendapatan > 50 Juta, maka tarif pajaknya 12,5%\")\n",
    "print(\"========================================================\")\n",
    "print(\"Nama :\",Nama)\n",
    "print(\"Pendapatan :\",Pendapatan)\n",
    "if Pendapatan<=10000000:\n",
    "    Pajak=Pendapatan*0.025\n",
    "    print(\"Pajak yang harus dibayarkan sebesar Rp.\",Pajak)\n",
    "elif Pendapatan<=20000000:\n",
    "    Pajak=Pendapatan*0.05\n",
    "    print(\"Pajak yang harus dibayarkan sebesar Rp.\",Pajak)\n",
    "elif Pendapatan<=50000000:\n",
    "    Pajak=Pendapatan*0.1\n",
    "    print(\"Pajak yang harus dibayarkan sebesar Rp.\",Pajak)\n",
    "elif Pendapatan>50000000:\n",
    "    Pajak=Pendapatan*0.125\n",
    "    print(\"Pajak yang harus dibayarkan sebesar Rp.\",Pajak)\n"
   ]
  },
  {
   "attachments": {},
   "cell_type": "markdown",
   "metadata": {},
   "source": [
    "## 2."
   ]
  },
  {
   "attachments": {},
   "cell_type": "markdown",
   "metadata": {},
   "source": [
    "Buatlah program yang menampilkan akan melakukan validasi apakah mahasiswa tersebut berasal dari TI UNS berdasarkan NIM yang diinput oleh user:\n",
    "<br>Dengan ketentuan sebagai berikut:\n",
    "* NIM mahasiswa TI harus dimulai dengan \"I03\" dengan total panjang 8 karakter (I0320078 adalah contoh NIM mahasiswa TI UNS)\n",
    "* Program akan menampilkan pesan \"NIM mahasiswa TI UNS\" jika NIM yang dimasukkan sesuai dengan format yang dijelaskan di atas, dan akan menampilkan pesan \"NIM Anda tidak valid\" jika tidak sesuai.\n",
    "> *note: Kerjakan soal ini dengan percabangan*"
   ]
  },
  {
   "cell_type": "code",
   "execution_count": 5,
   "metadata": {},
   "outputs": [
    {
     "name": "stdout",
     "output_type": "stream",
     "text": [
      "Nadya Kartika Aptarini\n",
      "I0322091 NIM Mahasiswa TI UNS\n"
     ]
    }
   ],
   "source": [
    "# Kerjakan soal no 2 di sini\n",
    "\n",
    "# VALIDASI MAHASISWA TI UNS\n",
    "Nama = print(input(\"Masukan Nama Anda =\"))\n",
    "NIM = input(\"Masukan NIM Anda =\")\n",
    "if NIM.startswith(\"I03\") and len(NIM)==8:\n",
    "    print(NIM,\"NIM Mahasiswa TI UNS\")\n",
    "else:\n",
    "    print(\"NIM Anda Tidak Valid\")"
   ]
  }
 ],
 "metadata": {
  "kernelspec": {
   "display_name": "Python 3",
   "language": "python",
   "name": "python3"
  },
  "language_info": {
   "codemirror_mode": {
    "name": "ipython",
    "version": 3
   },
   "file_extension": ".py",
   "mimetype": "text/x-python",
   "name": "python",
   "nbconvert_exporter": "python",
   "pygments_lexer": "ipython3",
   "version": "3.11.2"
  },
  "orig_nbformat": 4
 },
 "nbformat": 4,
 "nbformat_minor": 2
}
